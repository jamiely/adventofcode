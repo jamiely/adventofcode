{
 "cells": [
  {
   "cell_type": "markdown",
   "metadata": {},
   "source": [
    "--- Day 1: Chronal Calibration ---\n",
    "\n",
    "\"We've detected some temporal anomalies,\" one of Santa's Elves at the Temporal Anomaly Research and Detection Instrument Station tells you. She sounded pretty worried when she called you down here. \"At 500-year intervals into the past, someone has been changing Santa's history!\"\n",
    "\n",
    "\"The good news is that the changes won't propagate to our time stream for another 25 days, and we have a device\" - she attaches something to your wrist - \"that will let you fix the changes with no such propagation delay. It's configured to send you 500 years further into the past every few days; that was the best we could do on such short notice.\"\n",
    "\n",
    "\"The bad news is that we are detecting roughly fifty anomalies throughout time; the device will indicate fixed anomalies with stars. The other bad news is that we only have one device and you're the best person for the job! Good lu--\" She taps a button on the device and you suddenly feel like you're falling. To save Christmas, you need to get all fifty stars by December 25th.\n",
    "\n",
    "Collect stars by solving puzzles. Two puzzles will be made available on each day in the advent calendar; the second puzzle is unlocked when you complete the first. Each puzzle grants one star. Good luck!\n",
    "\n",
    "After feeling like you've been falling for a few minutes, you look at the device's tiny screen. \"Error: Device must be calibrated before first use. Frequency drift detected. Cannot maintain destination lock.\" Below the message, the device shows a sequence of changes in frequency (your puzzle input). A value like +6 means the current frequency increases by 6; a value like -3 means the current frequency decreases by 3.\n",
    "\n",
    "For example, if the device displays frequency changes of +1, -2, +3, +1, then starting from a frequency of zero, the following changes would occur:\n",
    "\n",
    "    Current frequency  0, change of +1; resulting frequency  1.\n",
    "    Current frequency  1, change of -2; resulting frequency -1.\n",
    "    Current frequency -1, change of +3; resulting frequency  2.\n",
    "    Current frequency  2, change of +1; resulting frequency  3.\n",
    "\n",
    "In this example, the resulting frequency is 3.\n",
    "\n",
    "Here are other example situations:\n",
    "\n",
    "    +1, +1, +1 results in  3\n",
    "    +1, +1, -2 results in  0\n",
    "    -1, -2, -3 results in -6\n",
    "\n",
    "Starting with a frequency of zero, what is the resulting frequency after all of the changes in frequency have been applied?\n",
    "\n",
    "To begin, get your puzzle input.\n",
    "\n",
    "Answer:\n",
    "\n",
    "You can also [Shareon Twitter Reddit] this puzzle.\n"
   ]
  },
  {
   "cell_type": "code",
   "execution_count": 12,
   "metadata": {},
   "outputs": [
    {
     "name": "stdout",
     "output_type": "stream",
     "text": [
      "frequency: 538\n"
     ]
    }
   ],
   "source": [
    "class Input:\n",
    "    def __init__(self, filename):\n",
    "        with open('input') as f:\n",
    "            self.lines = [ int(line.strip()) for line in list(f) ]\n",
    "\n",
    "class Day1a:\n",
    "    def __init__(self):\n",
    "        self.lines = []\n",
    "        \n",
    "    def load(self):\n",
    "        with open('input') as f:\n",
    "            self.lines = [ int(line.strip()) for line in list(f) ]\n",
    "    \n",
    "    def calculate(self, current):\n",
    "        return current + sum(self.lines)\n",
    "        \n",
    "    def run(self, current):\n",
    "        self.load()\n",
    "        result = self.calculate(current)\n",
    "        print(\"frequency:\", result)\n",
    "        \n",
    "if __name__ == \"__main__\":\n",
    "    Day1a().run(0)"
   ]
  },
  {
   "cell_type": "markdown",
   "metadata": {},
   "source": [
    "--- Part Two ---\n",
    "\n",
    "You notice that the device repeats the same frequency change list over and over. To calibrate the device, you need to find the first frequency it reaches twice.\n",
    "\n",
    "For example, using the same list of changes above, the device would loop as follows:\n",
    "\n",
    "    Current frequency  0, change of +1; resulting frequency  1.\n",
    "    Current frequency  1, change of -2; resulting frequency -1.\n",
    "    Current frequency -1, change of +3; resulting frequency  2.\n",
    "    Current frequency  2, change of +1; resulting frequency  3.\n",
    "    (At this point, the device continues from the start of the list.)\n",
    "    Current frequency  3, change of +1; resulting frequency  4.\n",
    "    Current frequency  4, change of -2; resulting frequency  2, which has already been seen.\n",
    "\n",
    "In this example, the first frequency reached twice is 2. Note that your device might need to repeat its list of frequency changes many times before a duplicate frequency is found, and that duplicates might be found while in the middle of processing the list.\n",
    "\n",
    "Here are other examples:\n",
    "\n",
    "    +1, -1 first reaches 0 twice.\n",
    "    +3, +3, +4, -2, -4 first reaches 10 twice.\n",
    "    -6, +3, +8, +5, -6 first reaches 5 twice.\n",
    "    +7, +7, -2, -7, -4 first reaches 14 twice.\n",
    "\n",
    "What is the first frequency your device reaches twice?\n"
   ]
  },
  {
   "cell_type": "code",
   "execution_count": 29,
   "metadata": {},
   "outputs": [
    {
     "name": "stdout",
     "output_type": "stream",
     "text": [
      "frequency: 538\n",
      "first dupe: 77271\n"
     ]
    }
   ],
   "source": [
    "class Day1b:\n",
    "    def __init__(self):\n",
    "        self.lines = []\n",
    "        \n",
    "    def load(self):\n",
    "        with open('input') as f:\n",
    "            self.lines = [ int(line.strip()) for line in list(f) ]\n",
    "    \n",
    "    def calculate(self, current):\n",
    "        return current + sum(self.lines)\n",
    "    \n",
    "    def first_dupe_frequency(self, current):\n",
    "        seen = {}\n",
    "        found = None\n",
    "        while not found:\n",
    "            for value in self.lines:\n",
    "                if current in seen:\n",
    "                    found = current\n",
    "                    break\n",
    "                seen[current] = True\n",
    "                current += value\n",
    "        return found\n",
    "        \n",
    "        \n",
    "    def run(self, current):\n",
    "        self.load()\n",
    "        result = self.calculate(current)\n",
    "        print(\"frequency:\", result)\n",
    "        first_dupe = self.first_dupe_frequency(current)\n",
    "        print(\"first dupe:\", first_dupe)\n",
    "        \n",
    "if __name__ == \"__main__\":\n",
    "    Day1b().run(0)"
   ]
  },
  {
   "cell_type": "code",
   "execution_count": null,
   "metadata": {},
   "outputs": [],
   "source": []
  }
 ],
 "metadata": {
  "kernelspec": {
   "display_name": "Python 3",
   "language": "python",
   "name": "python3"
  },
  "language_info": {
   "codemirror_mode": {
    "name": "ipython",
    "version": 3
   },
   "file_extension": ".py",
   "mimetype": "text/x-python",
   "name": "python",
   "nbconvert_exporter": "python",
   "pygments_lexer": "ipython3",
   "version": "3.7.0"
  }
 },
 "nbformat": 4,
 "nbformat_minor": 2
}
