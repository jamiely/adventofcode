{
 "cells": [
  {
   "cell_type": "markdown",
   "metadata": {},
   "source": [
    "https://adventofcode.com/2018/day/2\n",
    "\n",
    "--- Day 2: Inventory Management System ---\n",
    "\n",
    "You stop falling through time, catch your breath, and check the screen on the device. \"Destination reached. Current Year: 1518. Current Location: North Pole Utility Closet 83N10.\" You made it! Now, to find those anomalies.\n",
    "\n",
    "Outside the utility closet, you hear footsteps and a voice. \"...I'm not sure either. But now that so many people have chimneys, maybe he could sneak in that way?\" Another voice responds, \"Actually, we've been working on a new kind of suit that would let him fit through tight spaces like that. But, I heard that a few days ago, they lost the prototype fabric, the design plans, everything! Nobody on the team can even seem to remember important details of the project!\"\n",
    "\n",
    "\"Wouldn't they have had enough fabric to fill several boxes in the warehouse? They'd be stored together, so the box IDs should be similar. Too bad it would take forever to search the warehouse for two similar box IDs...\" They walk too far away to hear any more.\n",
    "\n",
    "Late at night, you sneak to the warehouse - who knows what kinds of paradoxes you could cause if you were discovered - and use your fancy wrist device to quickly scan every box and produce a list of the likely candidates (your puzzle input).\n",
    "\n",
    "To make sure you didn't miss any, you scan the likely candidate boxes again, counting the number that have an ID containing exactly two of any letter and then separately counting those with exactly three of any letter. You can multiply those two counts together to get a rudimentary checksum and compare it to what your device predicts.\n",
    "\n",
    "For example, if you see the following box IDs:\n",
    "\n",
    "    abcdef contains no letters that appear exactly two or three times.\n",
    "    bababc contains two a and three b, so it counts for both.\n",
    "    abbcde contains two b, but no letter appears exactly three times.\n",
    "    abcccd contains three c, but no letter appears exactly two times.\n",
    "    aabcdd contains two a and two d, but it only counts once.\n",
    "    abcdee contains two e.\n",
    "    ababab contains three a and three b, but it only counts once.\n",
    "\n",
    "Of these box IDs, four of them contain a letter which appears exactly twice, and three of them contain a letter which appears exactly three times. Multiplying these together produces a checksum of 4 * 3 = 12.\n",
    "\n",
    "What is the checksum for your list of box IDs?\n"
   ]
  },
  {
   "cell_type": "code",
   "execution_count": 13,
   "metadata": {},
   "outputs": [
    {
     "name": "stdout",
     "output_type": "stream",
     "text": [
      "{'has_2_chars': True, 'has_3_chars': True}\n",
      "8398\n"
     ]
    }
   ],
   "source": [
    "from functools import reduce\n",
    "\n",
    "def char_count(counts, char):\n",
    "    if not char in counts:\n",
    "        counts[char] = 0\n",
    "    counts[char] += 1 \n",
    "    return counts\n",
    "        \n",
    "def calculate_line(line):\n",
    "    counts = reduce(char_count, list(line), {}).values()\n",
    "    return {'has_2_chars': 2 in counts, 'has_3_chars': 3 in counts}\n",
    "        \n",
    "def test_calculate_line():\n",
    "    result = calculate_line(\"bababc\")\n",
    "    print(result)\n",
    "    assert result == {'has_2_chars': True, 'has_3_chars': True}\n",
    "    \n",
    "test_calculate_line()\n",
    "\n",
    "def process_file(f):\n",
    "    sum_of_words_with_2_chars = 0\n",
    "    sum_of_words_with_3_chars = 0    \n",
    "    for line in list(f):\n",
    "        calculation = calculate_line(line)\n",
    "        if calculation['has_2_chars']:\n",
    "            sum_of_words_with_2_chars += 1\n",
    "        if calculation['has_3_chars']:\n",
    "            sum_of_words_with_3_chars += 1\n",
    "    return sum_of_words_with_2_chars * sum_of_words_with_3_chars\n",
    "    \n",
    "def process_path(filename):\n",
    "    with open(filename) as f:\n",
    "        return process_file(f)\n",
    "\n",
    "def answer(filename):\n",
    "    print(process_path(filename))\n",
    "    \n",
    "answer('./day2.input')\n"
   ]
  },
  {
   "cell_type": "markdown",
   "metadata": {},
   "source": [
    "--- Part Two ---\n",
    "\n",
    "Confident that your list of box IDs is complete, you're ready to find the boxes full of prototype fabric.\n",
    "\n",
    "The boxes will have IDs which differ by exactly one character at the same position in both strings. For example, given the following box IDs:\n",
    "\n",
    "abcde\n",
    "fghij\n",
    "klmno\n",
    "pqrst\n",
    "fguij\n",
    "axcye\n",
    "wvxyz\n",
    "\n",
    "The IDs abcde and axcye are close, but they differ by two characters (the second and fourth). However, the IDs fghij and fguij differ by exactly one character, the third (h and u). Those must be the correct boxes.\n",
    "\n",
    "What letters are common between the two correct box IDs? (In the example above, this is found by removing the differing character from either ID, producing fgij.)\n",
    "\n"
   ]
  },
  {
   "cell_type": "code",
   "execution_count": 23,
   "metadata": {},
   "outputs": [
    {
     "name": "stdout",
     "output_type": "stream",
     "text": [
      "hhvsdkatysmiqjxunezgwcdpr\n"
     ]
    }
   ],
   "source": [
    "class Day2b:\n",
    "    def __init__(self):\n",
    "        self.lines = []\n",
    "        \n",
    "    def load(self):\n",
    "        with open('day2.input') as f:\n",
    "            self.lines = [ line.strip() for line in list(f) ]\n",
    "            \n",
    "    def compare_lines(self, a, b):\n",
    "        if len(a) != len(b): return False\n",
    "        \n",
    "        incorrect = 0\n",
    "        for i in range(len(a)):\n",
    "            ac = a[i]\n",
    "            bc = b[i]\n",
    "            if ac != bc:\n",
    "                incorrect +=1\n",
    "            if incorrect > 1:\n",
    "                return False\n",
    "        \n",
    "        if incorrect == 0:\n",
    "            print(\"Weird, they are exactly the same\")\n",
    "            return False\n",
    "        \n",
    "        return True\n",
    "    \n",
    "    def find_common_letters(self, a, b):\n",
    "        if len(a) != len(b): return False\n",
    "        \n",
    "        incorrect = 0\n",
    "        return_str = \"\"\n",
    "        for i in range(len(a)):\n",
    "            ac = a[i]\n",
    "            bc = b[i]\n",
    "            if ac == bc:\n",
    "                return_str += ac\n",
    "\n",
    "        return return_str\n",
    "        \n",
    "    def run(self, current):\n",
    "        self.load()\n",
    "        for index, main_line in enumerate(self.lines):\n",
    "            j = index + 1\n",
    "            while j < len(self.lines):                \n",
    "                other = self.lines[j]\n",
    "                if self.compare_lines(main_line, other):\n",
    "                    return self.find_common_letters(main_line, other)\n",
    "                j += 1\n",
    "        return None\n",
    "                \n",
    "        \n",
    "if __name__ == \"__main__\":\n",
    "    result = Day2b().run(0)\n",
    "    print(result)"
   ]
  },
  {
   "cell_type": "code",
   "execution_count": null,
   "metadata": {},
   "outputs": [],
   "source": []
  }
 ],
 "metadata": {
  "kernelspec": {
   "display_name": "Python 3",
   "language": "python",
   "name": "python3"
  },
  "language_info": {
   "codemirror_mode": {
    "name": "ipython",
    "version": 3
   },
   "file_extension": ".py",
   "mimetype": "text/x-python",
   "name": "python",
   "nbconvert_exporter": "python",
   "pygments_lexer": "ipython3",
   "version": "3.7.0"
  }
 },
 "nbformat": 4,
 "nbformat_minor": 2
}
